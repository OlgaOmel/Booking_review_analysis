{
  "nbformat": 4,
  "nbformat_minor": 0,
  "metadata": {
    "colab": {
      "provenance": []
    },
    "kernelspec": {
      "name": "python3",
      "display_name": "Python 3"
    },
    "language_info": {
      "name": "python"
    }
  },
  "cells": [
    {
      "cell_type": "markdown",
      "source": [
        "Загружаем библиотеки"
      ],
      "metadata": {
        "id": "jFBSKHdmb1LJ"
      }
    },
    {
      "cell_type": "code",
      "execution_count": null,
      "metadata": {
        "id": "s9Nnw-CyZ3TQ"
      },
      "outputs": [],
      "source": [
        "# Работа с df\n",
        "import pandas as pd\n",
        "# Парсинг\n",
        "import requests as rq\n",
        "from bs4 import BeautifulSoup as bs\n",
        "import time\n",
        "import re"
      ]
    },
    {
      "cell_type": "markdown",
      "source": [
        "Описания, названия и ссылки на отели"
      ],
      "metadata": {
        "id": "I0XvibJzcfK4"
      }
    },
    {
      "cell_type": "code",
      "source": [
        "# Ссылки на все страницы с отелями города\n",
        "pages = []\n",
        "for p in range(0, 401, 25):\n",
        "    url = f\"https://www.booking.com/searchresults.en-us.html?label=FTUAirBnBAlt&sid=f52429649313d6700f51428e2f0d275f&aid=385205&city=-1502554&offset={p}\"\n",
        "    pages.append(url)\n",
        "# Ссылки и названия для каждого отеля\n",
        "all_links = []\n",
        "all_titles = []\n",
        "for page in pages:\n",
        "  headers = {'User-Agent':'Mozilla/5.0 (Macintosh; Intel Mac OS X 10_11_2) AppleWebKit/601.3.9 (KHTML, like Gecko) Version/9.0.2 Safari/601.3.9'}\n",
        "  response = rq.get(page, headers=headers)\n",
        "  soup = bs(response.content,'lxml')   \n",
        "  for i in soup.find_all('div', attrs={'data-testid':\"property-card\"}):\n",
        "    link = i.find('a').get(\"href\")\n",
        "    all_links.append(link)\n",
        "    title = i.find('div', attrs={'data-testid':\"title\"}).text\n",
        "    all_titles.append(title)\n",
        "# Описания для каждого отеля\n",
        "texts = []\n",
        "def get_text(url):\n",
        "    soup = bs(rq.get(url).content, 'html.parser')\n",
        "    time.sleep(2)\n",
        "    text = soup.find(\"div\", {\"id\": \"property_description_content\"})\n",
        "    texts.append(text.get_text().replace('\\n', ''))\n",
        "for hotel in all_links:\n",
        "    get_text(hotel)"
      ],
      "metadata": {
        "id": "hzmz8BwHZ7AD"
      },
      "execution_count": null,
      "outputs": []
    },
    {
      "cell_type": "markdown",
      "source": [
        "Сохраняем"
      ],
      "metadata": {
        "id": "IW6OxuQzb_n4"
      }
    },
    {
      "cell_type": "code",
      "source": [
        "df = pd.DataFrame(all_links, columns = [\"link\"])\n",
        "df['title'] = all_titles\n",
        "df['description'] = texts\n",
        "df.head()\n",
        "df.to_csv('data.csv')\n",
        "df.to_json('data.json')\n",
        "df['description'].to_json('Descriptions.json')\n",
        "df.to_excel('data.xlsx')\n",
        "df = pd.DataFrame(texts, columns = [\"Descriptions(1)\"])\n",
        "df.head()\n",
        "df.to_json('Descriptions(1).json')"
      ],
      "metadata": {
        "id": "CeVSd0CQcCVr"
      },
      "execution_count": null,
      "outputs": []
    }
  ]
}