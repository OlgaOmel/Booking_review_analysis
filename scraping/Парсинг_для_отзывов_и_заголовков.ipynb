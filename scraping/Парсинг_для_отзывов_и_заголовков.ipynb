{
  "cells": [
    {
      "cell_type": "markdown",
      "source": [
        "Библиотеки"
      ],
      "metadata": {
        "id": "hAkAfXM_XMo5"
      }
    },
    {
      "cell_type": "code",
      "source": [
        "# Работа с df\n",
        "import pandas as pd\n",
        "# Парсинг\n",
        "from bs4 import BeautifulSoup as bs\n",
        "import urllib\n",
        "import re\n",
        "import requests as rq\n",
        "import time"
      ],
      "metadata": {
        "id": "Uc7poJxTXw75"
      },
      "execution_count": null,
      "outputs": []
    },
    {
      "cell_type": "code",
      "source": [
        "df = pd.read_json(\"data.json\")\n",
        "all_links = df['link'].tolist()"
      ],
      "metadata": {
        "id": "uL9qqMKwX1yn"
      },
      "execution_count": null,
      "outputs": []
    },
    {
      "cell_type": "markdown",
      "source": [
        "Ссылки на страницы отзывов"
      ],
      "metadata": {
        "id": "kxCiZFfdX3rW"
      }
    },
    {
      "cell_type": "code",
      "execution_count": null,
      "metadata": {
        "id": "C6AnHiU_YuQA"
      },
      "outputs": [],
      "source": [
        "# уникальные названия 419 отелей\n",
        "name_parts = []\n",
        "def get_part(surl):\n",
        "    url = urllib.parse.urlparse(surl)\n",
        "    lurl = list(url)\n",
        "    for_regex = lurl[2]\n",
        "    start = re.sub(r'/hotel/ie/', '', for_regex)\n",
        "    end = re.sub(r'.en-gb.html', '', start)\n",
        "    name_parts.append(end)\n",
        "for link in all_links:\n",
        "    get_part(link)\n",
        "\n",
        "\n",
        "# ссылки на первую страницу каждого из 419 отелей\n",
        "links_for_reviews = []\n",
        "def get_a_rwlink(name):\n",
        "    links_for_reviews.append(\"https://www.booking.com/reviewlist.html?aid=304142&label=gen173nr-1FCAsoaUIPYmVyZXNmb3JkLWhvdGVsSDNYBGjCAYgBAZgBMbgBB8gBDNgBAegBAfgBAogCAagCA7gC79TQngbAAgHSAiRiN2JlOTc5MC1lZTc0LTQxODYtOTU2MC0wMDU1ZWExZGM1ZjHYAgXgAgE&sid=f52429649313d6700f51428e2f0d275f&cc1=ie&dist=1&pagename=\" + name +\"&type=total&rows=10&_=1674848881427&offset=0\")\n",
        "for name in name_parts:\n",
        "    get_a_rwlink(name)\n",
        "\n",
        "# заголовки и отзывы\n",
        "reviews_titles = []\n",
        "reviews = []\n",
        "def get_reviews_titles(url):\n",
        "    headers = {'User-Agent':'Mozilla/5.0 (Macintosh; Intel Mac OS X 10_11_2) AppleWebKit/601.3.9 (KHTML, like Gecko) Version/9.0.2 Safari/601.3.9'}\n",
        "    page = rq.get(url, headers=headers)\n",
        "    soup = bs(page.content,'lxml') \n",
        "    soup_reviews_titles = soup.find_all(\"h3\", class_=\" c-review-block__title c-review__title--ltr \")\n",
        "    soup_reviews = soup.find_all(\"span\", class_=\"c-review__body\")\n",
        "    for title in soup_reviews_titles:\n",
        "        reviews_titles.append(title.get_text().replace('\\n', ''))\n",
        "    for review in soup_reviews:\n",
        "        reviews.append(review.get_text().replace('\\r', ''))\n",
        "for i in links_for_reviews:\n",
        "    get_reviews_titles(i)"
      ]
    },
    {
      "cell_type": "markdown",
      "source": [
        "Удаляем отзывы-дубли"
      ],
      "metadata": {
        "id": "BfAQUtAeXqbK"
      }
    },
    {
      "cell_type": "code",
      "execution_count": null,
      "metadata": {
        "id": "ZhQjtlxVvMFW"
      },
      "outputs": [],
      "source": [
        "def remove_duplicates(reviews):\n",
        "    unique_reviews = set()\n",
        "    duplicates = []\n",
        "    for review in reviews:\n",
        "        if review in unique_reviews:\n",
        "            duplicates.append(review)\n",
        "        else:\n",
        "            unique_reviews.add(review)\n",
        "    unique_reviews = list(unique_reviews)\n",
        "    return unique_reviews, duplicates\n",
        "unique_reviews, duplicates = remove_duplicates(reviews)\n",
        "#print(unique_reviews)\n",
        "#print(duplicates)"
      ]
    },
    {
      "cell_type": "markdown",
      "source": [
        "Сохраняем"
      ],
      "metadata": {
        "id": "xCagw4rSe6NY"
      }
    },
    {
      "cell_type": "code",
      "execution_count": null,
      "metadata": {
        "id": "Bjy1cjtJddCm"
      },
      "outputs": [],
      "source": [
        "df = pd.DataFrame(reviews, columns = [\"review\"])\n",
        "df.to_json('reviews.json')\n",
        "df.to_csv('reviews.csv')\n",
        "df = pd.DataFrame(links_for_reviews, columns = [\"link\"])\n",
        "df.to_json('links_for_reviews.json')\n",
        "df.to_csv('links_for_reviews.csv')\n",
        "df = pd.DataFrame(reviews_titles, columns = [\"title\"])\n",
        "df.to_json('reviews_titles.json')\n",
        "df.to_csv('reviews_titles.csv')"
      ]
    }
  ],
  "metadata": {
    "colab": {
      "provenance": []
    },
    "kernelspec": {
      "display_name": "Python 3",
      "name": "python3"
    },
    "language_info": {
      "name": "python"
    }
  },
  "nbformat": 4,
  "nbformat_minor": 0
}