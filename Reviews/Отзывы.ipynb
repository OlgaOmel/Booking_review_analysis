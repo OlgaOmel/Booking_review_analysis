{
  "nbformat": 4,
  "nbformat_minor": 0,
  "metadata": {
    "colab": {
      "provenance": []
    },
    "kernelspec": {
      "name": "python3",
      "display_name": "Python 3"
    },
    "language_info": {
      "name": "python"
    }
  },
  "cells": [
    {
      "cell_type": "markdown",
      "source": [
        "Библиотеки"
      ],
      "metadata": {
        "id": "sb7K9YC3iMNL"
      }
    },
    {
      "cell_type": "code",
      "source": [
        "# Работа с csv и df\n",
        "import pandas as pd\n",
        "import csv\n",
        "# Language detection\n",
        "pip install langdetect\n",
        "from langdetect import detect\n",
        "# Sentiment analysis\n",
        "pip install flair\n",
        "from flair.models import TextClassifier\n",
        "from flair.data import Sentence"
      ],
      "metadata": {
        "id": "eOuJLfxKd2Aa"
      },
      "execution_count": null,
      "outputs": []
    },
    {
      "cell_type": "code",
      "source": [
        "df = pd.read_json(\"reviews.json\")\n",
        "reviews = df['review'].tolist()"
      ],
      "metadata": {
        "id": "wPZTT3ezeF7W"
      },
      "execution_count": null,
      "outputs": []
    },
    {
      "cell_type": "code",
      "source": [
        "# Какие языки\n",
        "languages = []\n",
        "for i in reviews:\n",
        "    try:\n",
        "        language = detect(i)\n",
        "        languages.append(language)\n",
        "    except:\n",
        "        pass"
      ],
      "metadata": {
        "id": "wd8Ee6K0eWA8"
      },
      "execution_count": null,
      "outputs": []
    },
    {
      "cell_type": "markdown",
      "source": [
        "Language detection"
      ],
      "metadata": {
        "id": "tkjF6_3D71M3"
      }
    },
    {
      "cell_type": "code",
      "source": [
        "# Подсчет\n",
        "from collections import Counter\n",
        "language_count = Counter(languages)\n",
        "language_count"
      ],
      "metadata": {
        "colab": {
          "base_uri": "https://localhost:8080/"
        },
        "id": "-23pMxEyfln_",
        "outputId": "80c3887c-8b68-459f-95f7-781b39bb0b1c"
      },
      "execution_count": null,
      "outputs": [
        {
          "output_type": "execute_result",
          "data": {
            "text/plain": [
              "Counter({'en': 4544,\n",
              "         'no': 7,\n",
              "         'tl': 38,\n",
              "         'es': 79,\n",
              "         'ro': 14,\n",
              "         'it': 53,\n",
              "         'af': 29,\n",
              "         'fr': 82,\n",
              "         'de': 40,\n",
              "         'cs': 2,\n",
              "         'vi': 10,\n",
              "         'pl': 8,\n",
              "         'sl': 6,\n",
              "         'et': 6,\n",
              "         'nl': 31,\n",
              "         'cy': 10,\n",
              "         'so': 13,\n",
              "         'da': 16,\n",
              "         'ca': 11,\n",
              "         'sv': 7,\n",
              "         'pt': 26,\n",
              "         'sw': 3,\n",
              "         'id': 5,\n",
              "         'fi': 4,\n",
              "         'hu': 2,\n",
              "         'ko': 2,\n",
              "         'uk': 1,\n",
              "         'mk': 1,\n",
              "         'ar': 2,\n",
              "         'ru': 1,\n",
              "         'sq': 1})"
            ]
          },
          "metadata": {},
          "execution_count": 41
        }
      ]
    },
    {
      "cell_type": "code",
      "source": [
        "# Отзывы на английском\n",
        "en_language = []\n",
        "for i in reviews:\n",
        "    try:\n",
        "        if detect(i) == \"en\":\n",
        "            en_language.append(i)\n",
        "    except:\n",
        "        pass"
      ],
      "metadata": {
        "id": "tuF79e8-gcOY"
      },
      "execution_count": null,
      "outputs": []
    },
    {
      "cell_type": "code",
      "source": [
        "df = pd.DataFrame(en_language, columns = [\"review\"])\n",
        "df.to_csv('en_reviews.csv')\n",
        "df.to_json('en_reviews.json')"
      ],
      "metadata": {
        "id": "HUFXcQGciWMt"
      },
      "execution_count": null,
      "outputs": []
    },
    {
      "cell_type": "markdown",
      "source": [
        "Sentiment analysis"
      ],
      "metadata": {
        "id": "WB7uXt2S754D"
      }
    },
    {
      "cell_type": "code",
      "source": [
        "classifier = TextClassifier.load('en-sentiment')"
      ],
      "metadata": {
        "id": "1kQs74Daj7Y7"
      },
      "execution_count": null,
      "outputs": []
    },
    {
      "cell_type": "code",
      "source": [
        "# Positive example\n",
        "sentence = Sentence('The bed was very comfortable and the room was warm.')\n",
        "classifier.predict(sentence)\n",
        "sentence.labels"
      ],
      "metadata": {
        "colab": {
          "base_uri": "https://localhost:8080/"
        },
        "id": "7bnPX1ZAkNGi",
        "outputId": "04efb236-36b4-4399-9508-863206632bd7"
      },
      "execution_count": null,
      "outputs": [
        {
          "output_type": "execute_result",
          "data": {
            "text/plain": [
              "['Sentence: \"The bed was very comfortable and the room was warm .\"'/'POSITIVE' (0.9921)]"
            ]
          },
          "metadata": {},
          "execution_count": 32
        }
      ]
    },
    {
      "cell_type": "code",
      "source": [
        "# Negative example\n",
        "sentence = Sentence('Very noisy given the location - constant partying and construction in the evenings and mornings. The bathrooms are in need of a refurbishment as they’re worn out and low quality.')\n",
        "classifier.predict(sentence)\n",
        "sentence.labels"
      ],
      "metadata": {
        "colab": {
          "base_uri": "https://localhost:8080/"
        },
        "id": "1GQxHrjEkaLh",
        "outputId": "bef4ba32-455d-423a-94da-b312797fc247"
      },
      "execution_count": null,
      "outputs": [
        {
          "output_type": "execute_result",
          "data": {
            "text/plain": [
              "['Sentence: \"Very noisy given the location - constant partying and construction in the evenings and mornings . The bathrooms are in need of a refurbishment as they ’re worn out and low quality .\"'/'NEGATIVE' (0.999)]"
            ]
          },
          "metadata": {},
          "execution_count": 34
        }
      ]
    },
    {
      "cell_type": "code",
      "source": [
        "results = []\n",
        "\n",
        "positive = 0\n",
        "negative = 0\n",
        "\n",
        "for review in en_language:\n",
        "    sentence = Sentence(review)\n",
        "    classifier.predict(sentence)\n",
        "    sentiment = sentence.labels[0].value\n",
        "# Для отметки\n",
        "    results.append([review, sentiment])\n",
        "# Для подсчета\n",
        "    if sentiment == 'POSITIVE':\n",
        "        positive += 1\n",
        "    elif sentiment == 'NEGATIVE':\n",
        "        negative += 1"
      ],
      "metadata": {
        "id": "MI0YaOJll2JI"
      },
      "execution_count": null,
      "outputs": []
    },
    {
      "cell_type": "code",
      "source": [
        "with open('sentiment_analysis_results.csv', 'w', newline='') as csvfile:\n",
        "    writer = csv.writer(csvfile)\n",
        "    writer.writerow(['Sentiment', 'Count'])\n",
        "    writer.writerow(['Positive', positive])\n",
        "    writer.writerow(['Negative', negative])\n",
        "with open('sentiment_analysis_reviews.csv', 'w', newline='') as csvfile:\n",
        "    writer = csv.writer(csvfile)\n",
        "    writer.writerow(['Review', 'Sentiment'])\n",
        "    for result in results:\n",
        "        writer.writerow(result)"
      ],
      "metadata": {
        "id": "sJBq7a3xtt07"
      },
      "execution_count": null,
      "outputs": []
    }
  ]
}